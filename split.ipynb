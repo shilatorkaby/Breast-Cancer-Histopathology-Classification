{
  "cells": [
    {
      "cell_type": "code",
      "execution_count": null,
      "metadata": {
        "id": "TjzUYzMk360y"
      },
      "outputs": [],
      "source": [
        "import numpy as np\n",
        "from imutils import paths\n",
        "import random, shutil, os\n",
        "\n",
        "from google.colab import drive\n",
        "drive.mount('/content/drive')"
      ]
    },
    {
      "cell_type": "code",
      "source": [
        "INPUT_DATASET = '/content/drive/MyDrive/project_neural_net/full_dataset' # path to data\n",
        "\n",
        "OUTPUT_DATASET='/content/drive/MyDrive/project_neural_net/split_dataset' # empty folder\n",
        "\n"
      ],
      "metadata": {
        "id": "O2FJrUrM6hVD"
      },
      "execution_count": null,
      "outputs": []
    },
    {
      "cell_type": "code",
      "execution_count": null,
      "metadata": {
        "id": "wQ5_YVFf4B2a"
      },
      "outputs": [],
      "source": [
        "import numpy as np\n",
        "from imutils import paths\n",
        "import random, shutil, os\n",
        "classes = os.listdir(INPUT_DATASET)  # data path\n",
        "\n",
        "for i in classes: #for each classes\n",
        "\n",
        "    os.makedirs(OUTPUT_DATASET + '/train/' + i)  # create empty train folder\n",
        "\n",
        "    os.makedirs(OUTPUT_DATASET + '/test/' + i)  # create empty test folder\n",
        "\n",
        "    source = INPUT_DATASET + '/' + i\n",
        "\n",
        "    allFileNames = os.listdir(source)\n",
        "\n",
        "    np.random.shuffle(allFileNames)\n",
        "\n",
        "    test_ratio = 0.2\n",
        "\n",
        "    train_FileNames, test_FileNames = np.split(np.array(allFileNames), [int(len(allFileNames) * (1 - test_ratio))])\n",
        "\n",
        "    train_FileNames = [source + '/' + name for name in train_FileNames.tolist()]\n",
        "    test_FileNames = [source + '/' + name for name in test_FileNames.tolist()]\n",
        "\n",
        "    # copy the images to the new folders\n",
        "    for name in train_FileNames:\n",
        "        shutil.copy(name, OUTPUT_DATASET + '/train/' + i)\n",
        "\n",
        "    for name in test_FileNames:\n",
        "        shutil.copy(name, OUTPUT_DATASET + '/test/' + i)\n",
        "\n"
      ]
    },
    {
      "cell_type": "code",
      "execution_count": null,
      "metadata": {
        "colab": {
          "base_uri": "https://localhost:8080/"
        },
        "id": "_yQlZttk4B5E",
        "outputId": "45c8c7f9-ba1f-49a4-8817-0a884d1d8609"
      },
      "outputs": [
        {
          "output_type": "stream",
          "name": "stdout",
          "text": [
            "ls: cannot access '/content/drive/MyDrive/project_neural_net/new_breastcancaer_net/spllit_data/train': No such file or directory\n"
          ]
        }
      ],
      "source": [
        ""
      ]
    }
  ],
  "metadata": {
    "colab": {
      "name": "split.ipynb",
      "provenance": [],
      "collapsed_sections": []
    },
    "kernelspec": {
      "display_name": "Python 3",
      "name": "python3"
    },
    "language_info": {
      "name": "python"
    }
  },
  "nbformat": 4,
  "nbformat_minor": 0
}